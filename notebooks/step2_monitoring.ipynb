{
 "cells": [
  {
   "cell_type": "code",
   "execution_count": null,
   "id": "e73d3195",
   "metadata": {
    "vscode": {
     "languageId": "plaintext"
    }
   },
   "outputs": [],
   "source": [
    "# Update the existing endpoint configuration to enable data capture\n",
    "capture_s3_prefix = f\"{auto_ml_job_name}/datacapture\"  # S3 prefix for captured data\n",
    "data_capture_config = {\n",
    "    \"EnableCapture\": True,\n",
    "    \"InitialSamplingPercentage\": 100,  # capture 100% of requests\n",
    "    \"DestinationS3Uri\": f\"s3://{bucket}/{capture_s3_prefix}/\",\n",
    "    \"CaptureOptions\": [{\"CaptureMode\": \"Input\"}, {\"CaptureMode\": \"Output\"}],\n",
    "    \"CaptureContentTypeHeader\": {\"CsvContentTypes\": [\"text/csv\"], \"JsonContentTypes\": [\"application/json\"]}\n",
    "}\n",
    "# Create a new endpoint config with data capture enabled\n",
    "endpoint_config_name_v2 = f\"{auto_ml_job_name}-config-capture\"\n",
    "sm.create_endpoint_config(\n",
    "    EndpointConfigName=endpoint_config_name_v2,\n",
    "    ProductionVariants=[{\n",
    "        \"VariantName\": \"AllTraffic\",\n",
    "        \"ModelName\": model_name,\n",
    "        \"InstanceType\": instance_type,\n",
    "        \"InitialInstanceCount\": 1\n",
    "    }],\n",
    "    DataCaptureConfig=data_capture_config\n",
    ")\n",
    "# Update the endpoint to use the new config with data capture\n",
    "sm.update_endpoint(EndpointName=endpoint_name, EndpointConfigName=endpoint_config_name_v2)\n",
    "waiter.wait(EndpointName=endpoint_name)\n",
    "print(f\"Data capture enabled for endpoint: {endpoint_name}\")\n",
    "\n",
    "# Invoke the endpoint again to generate a captured data record\n",
    "if payload:\n",
    "    _ = runtime.invoke_endpoint(EndpointName=endpoint_name, ContentType=\"text/csv\", Body=payload)\n",
    "    print(\"Invoked endpoint to generate data capture.\")\n",
    "\n",
    "# Set up Model Monitor baseline using the training dataset\n",
    "from sagemaker.model_monitor import DefaultModelMonitor, DatasetFormat\n",
    "my_monitor = DefaultModelMonitor(role=boto3.client(\"sts\").get_caller_identity()[\"Arn\"],\n",
    "                                 instance_count=1,\n",
    "                                 instance_type=\"ml.m5.xlarge\",  # instance for monitoring jobs\n",
    "                                 volume_size_in_gb=20,\n",
    "                                 max_runtime_in_seconds=3600)\n",
    "baseline_results_uri = f\"s3://{bucket}/{auto_ml_job_name}/baseline-results\"\n",
    "my_monitor.suggest_baseline(  # This runs a processing job to compute data stats and constraints:contentReference[oaicite:12]{index=12}\n",
    "    baseline_dataset=s3_train_path,\n",
    "    dataset_format=DatasetFormat.csv(header=True),\n",
    "    output_s3_uri=baseline_results_uri,\n",
    "    wait=True\n",
    ")\n",
    "print(\"Baseline constraints and statistics generated.\")\n",
    "\n",
    "# Schedule a daily data-quality monitoring job\n",
    "from sagemaker.model_monitor import CronExpressionGenerator, MonitoringDatasetFormat, EndpointInput\n",
    "monitoring_schedule_name = f\"{auto_ml_job_name}-dataquality-schedule\"\n",
    "my_monitor.create_monitoring_schedule(\n",
    "    monitor_schedule_name=monitoring_schedule_name,\n",
    "    endpoint_input=EndpointInput(endpoint_name=endpoint_name, destination=\"/opt/ml/processing/input/endpoint\"),\n",
    "    output_s3_uri=f\"s3://{bucket}/{auto_ml_job_name}/monitoring-output\",\n",
    "    statistics=my_monitor.baseline_statistics(),\n",
    "    constraints=my_monitor.suggested_constraints(),\n",
    "    schedule_cron_expression=CronExpressionGenerator.daily(),  # run daily (you can use .hourly() for hourly)\n",
    "    enable_cloudwatch_metrics=True\n",
    ")\n",
    "desc = my_monitor.describe_schedule()\n",
    "print(f\"Monitoring schedule status: {desc['MonitoringScheduleStatus']}\")\n",
    "print(f\"Monitoring schedule configured to run at: {desc['ScheduleConfig']['ScheduleExpression']}\")\n"
   ]
  }
 ],
 "metadata": {
  "language_info": {
   "name": "python"
  }
 },
 "nbformat": 4,
 "nbformat_minor": 5
}
