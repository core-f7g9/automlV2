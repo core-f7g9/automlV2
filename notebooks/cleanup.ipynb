{
 "cells": [
  {
   "cell_type": "code",
   "execution_count": null,
   "id": "1a0cd1f2",
   "metadata": {
    "vscode": {
     "languageId": "plaintext"
    }
   },
   "outputs": [],
   "source": [
    "my_monitor.stop_monitoring_schedule(monitor_schedule_name)\n",
    "sm.delete_monitoring_schedule(MonitoringScheduleName=monitoring_schedule_name)"
   ]
  },
  {
   "cell_type": "code",
   "execution_count": null,
   "id": "80a58d85",
   "metadata": {
    "vscode": {
     "languageId": "plaintext"
    }
   },
   "outputs": [],
   "source": [
    "sm.delete_endpoint(EndpointName=endpoint_name)"
   ]
  },
  {
   "cell_type": "code",
   "execution_count": null,
   "id": "48e5de2b",
   "metadata": {
    "vscode": {
     "languageId": "plaintext"
    }
   },
   "outputs": [],
   "source": [
    "sm.delete_endpoint_config(EndpointConfigName=endpoint_config_name_v2)\n",
    "sm.delete_model(ModelName=model_name)"
   ]
  },
  {
   "cell_type": "code",
   "execution_count": null,
   "id": "cd182c6c",
   "metadata": {
    "vscode": {
     "languageId": "plaintext"
    }
   },
   "outputs": [],
   "source": [
    "events.remove_targets(Rule=rule_name, Ids=[\"SageMakerPipelineTarget\"])\n",
    "events.delete_rule(Name=rule_name)"
   ]
  },
  {
   "cell_type": "code",
   "execution_count": null,
   "id": "981b0130",
   "metadata": {
    "vscode": {
     "languageId": "plaintext"
    }
   },
   "outputs": [],
   "source": [
    "candidates = sm.list_candidates_for_auto_ml_job(AutoMLJobName=auto_ml_job_name)[\"Candidates\"]\n",
    "for cand in candidates:\n",
    "    status = cand[\"CandidateStatus\"]\n",
    "    print(f\"{cand['CandidateName']}: {status} {cand.get('FailureReason', '')}\")"
   ]
  }
 ],
 "metadata": {
  "language_info": {
   "name": "python"
  }
 },
 "nbformat": 4,
 "nbformat_minor": 5
}
