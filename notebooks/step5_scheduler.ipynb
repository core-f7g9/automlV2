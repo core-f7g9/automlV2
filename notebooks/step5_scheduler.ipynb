{
 "cells": [
  {
   "cell_type": "code",
   "execution_count": null,
   "id": "d443706c",
   "metadata": {
    "vscode": {
     "languageId": "plaintext"
    }
   },
   "outputs": [],
   "source": [
    "import boto3\n",
    "events = boto3.client(\"events\", region_name=region)\n",
    "\n",
    "# Define a daily schedule rule (EventBridge cron expression for once a day at midnight UTC)\n",
    "rule_name = \"AutopilotRetrainingDaily\"\n",
    "schedule_expression = \"cron(0 0 * * ? *)\"  # Every day at 00:00 UTC\n",
    "events.put_rule(\n",
    "    Name=rule_name,\n",
    "    ScheduleExpression=schedule_expression,\n",
    "    State=\"ENABLED\",\n",
    "    Description=\"Daily retraining trigger for SageMaker Autopilot\"\n",
    ")\n",
    "\n",
    "# Target: SageMaker Pipeline (replace <PipelineName> with an actual pipeline name if you have one)\n",
    "pipeline_name = \"<YourRetrainingPipelineName>\"\n",
    "pipeline_arn = f\"arn:aws:sagemaker:{region}:{boto3.client('sts').get_caller_identity()['Account']}:pipeline/{pipeline_name}\"\n",
    "# When targeting a SageMaker Pipeline, EventBridge needs an IAM role to invoke StartPipelineExecution\n",
    "pipeline_exec_role = \"<EventBridge_Invoke_Role_ARN>\"  # Role with SageMaker StartPipelineExecution permission\n",
    "events.put_targets(\n",
    "    Rule=rule_name,\n",
    "    Targets=[{\n",
    "        \"Id\": \"SageMakerPipelineTarget\",\n",
    "        \"Arn\": pipeline_arn,\n",
    "        \"RoleArn\": pipeline_exec_role,\n",
    "        \"SageMakerPipelineParameters\": {\n",
    "            \"PipelineParameterList\": [\n",
    "                # (Optional) specify pipeline parameters here if needed, e.g. new S3 data paths\n",
    "            ]\n",
    "        }\n",
    "    }]\n",
    ")\n",
    "print(f\"Scheduled EventBridge rule {rule_name} to trigger pipeline {pipeline_name} daily.\")\n"
   ]
  }
 ],
 "metadata": {
  "language_info": {
   "name": "python"
  }
 },
 "nbformat": 4,
 "nbformat_minor": 5
}
