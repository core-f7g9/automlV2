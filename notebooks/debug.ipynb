{
 "cells": [
  {
   "cell_type": "code",
   "execution_count": null,
   "id": "9b2fe03f",
   "metadata": {
    "vscode": {
     "languageId": "plaintext"
    }
   },
   "outputs": [],
   "source": [
    "import boto3, json\n",
    "sm = boto3.client(\"sagemaker\")\n",
    "\n",
    "JOB = \"your-autopilot-v2-job-name\"\n",
    "d = sm.describe_auto_ml_job_v2(AutoMLJobName=JOB)\n",
    "print(\"Status:\", d[\"AutoMLJobStatus\"], d.get(\"AutoMLJobSecondaryStatus\"))\n",
    "print(\"FailureReason:\", d.get(\"FailureReason\"))\n",
    "print(\"PartialFailureReasons:\", json.dumps(d.get(\"PartialFailureReasons\", []), indent=2))"
   ]
  },
  {
   "cell_type": "code",
   "execution_count": null,
   "id": "8fdf66f9",
   "metadata": {
    "vscode": {
     "languageId": "plaintext"
    }
   },
   "outputs": [],
   "source": [
    "cands = sm.list_candidates_for_auto_ml_job(AutoMLJobName=JOB, StatusEquals=\"Failed\")\n",
    "for c in cands.get(\"Candidates\", []):\n",
    "    print(\"Candidate:\", c[\"CandidateName\"])\n",
    "    for step in c.get(\"CandidateSteps\", []):\n",
    "        if step[\"CandidateStepType\"] == \"TRAINING_JOB\":\n",
    "            print(\"  TrainingJob:\", step[\"CandidateStepArn\"].split(\"/\")[-1])"
   ]
  },
  {
   "cell_type": "code",
   "execution_count": null,
   "id": "fdc3c103",
   "metadata": {
    "vscode": {
     "languageId": "plaintext"
    }
   },
   "outputs": [],
   "source": [
    "import boto3, json, urllib.parse, os\n",
    "\n",
    "sm   = boto3.client(\"sagemaker\")\n",
    "logs = boto3.client(\"logs\")\n",
    "region = boto3.Session().region_name\n",
    "\n",
    "JOB = \"your-autopilot-v2-job-name\"  # <-- put the running/just-failed job here\n",
    "\n",
    "d = sm.describe_auto_ml_job_v2(AutoMLJobName=JOB)\n",
    "print(\"== Job Status ==\")\n",
    "print(d[\"AutoMLJobStatus\"], \"-\", d.get(\"AutoMLJobSecondaryStatus\"))\n",
    "print(\"\\n== FailureReason ==\")\n",
    "print(d.get(\"FailureReason\", \"(none yet)\"))\n",
    "print(\"\\n== PartialFailureReasons ==\")\n",
    "print(json.dumps(d.get(\"PartialFailureReasons\", []), indent=2))\n",
    "\n",
    "print(\"\\n== Failed candidate training jobs ==\")\n",
    "failed = sm.list_candidates_for_auto_ml_job(AutoMLJobName=JOB, StatusEquals=\"Failed\")\n",
    "tjobs = []\n",
    "for c in failed.get(\"Candidates\", []):\n",
    "    cname = c[\"CandidateName\"]\n",
    "    for step in c.get(\"CandidateSteps\", []):\n",
    "        if step[\"CandidateStepType\"] == \"TRAINING_JOB\":\n",
    "            tname = step[\"CandidateStepArn\"].split(\"/\")[-1]\n",
    "            tjobs.append(tname)\n",
    "            print(f\"- Candidate: {cname}  TrainingJob: {tname}\")\n",
    "\n",
    "if not tjobs:\n",
    "    print(\"(none yet)\")\n",
    "\n",
    "# Quick CloudWatch link(s) you can click\n",
    "if tjobs:\n",
    "    print(\"\\n== Open CloudWatch logs ==\")\n",
    "    for t in tjobs[:3]:  # show first 3\n",
    "        # CW logs group for training: /aws/sagemaker/TrainingJobs , stream is the training job name\n",
    "        link = (\n",
    "            f\"https://{region}.console.aws.amazon.com/cloudwatch/home\"\n",
    "            f\"?region={region}#logsV2:log-groups/log-group/$252Faws$252Fsagemaker$252FTrainingJobs\"\n",
    "            f\"/log-events/{urllib.parse.quote(t)}\"\n",
    "        )\n",
    "        print(f\"{t}: {link}\")\n"
   ]
  },
  {
   "cell_type": "code",
   "execution_count": null,
   "id": "bea89788",
   "metadata": {
    "vscode": {
     "languageId": "plaintext"
    }
   },
   "outputs": [],
   "source": [
    "import csv, io, boto3, collections, math\n",
    "\n",
    "s3 = boto3.client(\"s3\")\n",
    "bucket = \"<your-bucket>\"\n",
    "key    = \"<your-train.csv>\"\n",
    "target = \"<your_target_col>\"\n",
    "\n",
    "obj = s3.get_object(Bucket=bucket, Key=key)\n",
    "rows = list(csv.reader(io.TextIOWrapper(obj[\"Body\"], encoding=\"utf-8\")))\n",
    "header = rows[0]\n",
    "assert target in header, f\"Target '{target}' not in header {header}\"\n",
    "tidx = header.index(target)\n",
    "\n",
    "classes = collections.Counter()\n",
    "bad = 0\n",
    "for r in rows[1:5000]:  # sample first 5k rows\n",
    "    if len(r) != len(header): bad += 1; continue\n",
    "    y = r[tidx]\n",
    "    if y in (\"\", None): bad += 1\n",
    "    else: classes[y] += 1\n",
    "\n",
    "print(\"Header OK. Sampled rows:\", len(rows)-1, \"Malformed rows:\", bad)\n",
    "print(\"Class distribution (sample):\", classes.most_common(10))\n",
    "assert len(classes) >= 2, \"Multiclass needs >= 2 classes present\"\n"
   ]
  }
 ],
 "metadata": {
  "language_info": {
   "name": "python"
  }
 },
 "nbformat": 4,
 "nbformat_minor": 5
}
