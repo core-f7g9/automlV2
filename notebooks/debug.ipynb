{
 "cells": [
  {
   "cell_type": "code",
   "execution_count": null,
   "id": "9b2fe03f",
   "metadata": {
    "vscode": {
     "languageId": "plaintext"
    }
   },
   "outputs": [],
   "source": [
    "import boto3, json\n",
    "sm = boto3.client(\"sagemaker\")\n",
    "\n",
    "JOB = \"your-autopilot-v2-job-name\"\n",
    "d = sm.describe_auto_ml_job_v2(AutoMLJobName=JOB)\n",
    "print(\"Status:\", d[\"AutoMLJobStatus\"], d.get(\"AutoMLJobSecondaryStatus\"))\n",
    "print(\"FailureReason:\", d.get(\"FailureReason\"))\n",
    "print(\"PartialFailureReasons:\", json.dumps(d.get(\"PartialFailureReasons\", []), indent=2))"
   ]
  },
  {
   "cell_type": "code",
   "execution_count": null,
   "id": "8fdf66f9",
   "metadata": {
    "vscode": {
     "languageId": "plaintext"
    }
   },
   "outputs": [],
   "source": [
    "cands = sm.list_candidates_for_auto_ml_job(AutoMLJobName=JOB, StatusEquals=\"Failed\")\n",
    "for c in cands.get(\"Candidates\", []):\n",
    "    print(\"Candidate:\", c[\"CandidateName\"])\n",
    "    for step in c.get(\"CandidateSteps\", []):\n",
    "        if step[\"CandidateStepType\"] == \"TRAINING_JOB\":\n",
    "            print(\"  TrainingJob:\", step[\"CandidateStepArn\"].split(\"/\")[-1])"
   ]
  }
 ],
 "metadata": {
  "language_info": {
   "name": "python"
  }
 },
 "nbformat": 4,
 "nbformat_minor": 5
}
